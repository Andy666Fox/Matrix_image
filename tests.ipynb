{
 "cells": [
  {
   "cell_type": "code",
   "execution_count": 1,
   "metadata": {},
   "outputs": [],
   "source": [
    "from PIL import Image, ImageEnhance"
   ]
  },
  {
   "cell_type": "code",
   "execution_count": null,
   "metadata": {},
   "outputs": [],
   "source": [
    "def im_contrast(path_to_file: str) -> str:\n",
    "    im = Image.open(path_to_file)\n",
    "    enhancer = ImageEnhance.Sharpness(im)\n",
    "    res = enhancer.enhance(4)\n",
    "\n",
    "    enhancer = ImageEnhance.Contrast(res)\n",
    "    res = enhancer.enhance(2)\n",
    "    \n",
    "    new_path = f'redux_{path_to_file}'\n",
    "    res.save(new_path)\n",
    "    \n",
    "    return new_path"
   ]
  }
 ],
 "metadata": {
  "interpreter": {
   "hash": "745580af149099085c602309336f96fdb3d04063157b41704fe01950326166b1"
  },
  "kernelspec": {
   "display_name": "Python 3.8.8 64-bit ('base': conda)",
   "language": "python",
   "name": "python3"
  },
  "language_info": {
   "codemirror_mode": {
    "name": "ipython",
    "version": 3
   },
   "file_extension": ".py",
   "mimetype": "text/x-python",
   "name": "python",
   "nbconvert_exporter": "python",
   "pygments_lexer": "ipython3",
   "version": "3.8.8"
  },
  "orig_nbformat": 4
 },
 "nbformat": 4,
 "nbformat_minor": 2
}
