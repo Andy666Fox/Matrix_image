{
 "cells": [
  {
   "cell_type": "code",
   "execution_count": 11,
   "id": "523ea503",
   "metadata": {},
   "outputs": [],
   "source": [
    "import numpy as np"
   ]
  },
  {
   "cell_type": "code",
   "execution_count": 17,
   "id": "e4581c1d",
   "metadata": {},
   "outputs": [],
   "source": [
    "pocs = [''.join(str(np.random.randint(1, 100)) for _ in range(10)) for _ in range(10)]"
   ]
  },
  {
   "cell_type": "code",
   "execution_count": 18,
   "id": "1980a584",
   "metadata": {},
   "outputs": [
    {
     "data": {
      "text/plain": [
       "['84511924261889196',\n",
       " '516341345911328881',\n",
       " '53242350247649863198',\n",
       " '9914126361973409056',\n",
       " '6051633644613597767',\n",
       " '40396111328916163597',\n",
       " '16175591297284851416',\n",
       " '8572455461544898612',\n",
       " '3579542622170522831',\n",
       " '31309571237245201580']"
      ]
     },
     "execution_count": 18,
     "metadata": {},
     "output_type": "execute_result"
    }
   ],
   "source": [
    "pocs"
   ]
  },
  {
   "cell_type": "code",
   "execution_count": 45,
   "id": "a892d23f",
   "metadata": {},
   "outputs": [],
   "source": [
    "def tale(symbols, lenght):\n",
    "    for i in symbols:\n",
    "        for x in range(lenght):\n",
    "            print(i * x)\n"
   ]
  },
  {
   "cell_type": "code",
   "execution_count": 46,
   "id": "9d9da35b",
   "metadata": {},
   "outputs": [
    {
     "name": "stdout",
     "output_type": "stream",
     "text": [
      "\n",
      "@\n",
      "@@\n",
      "@@@\n",
      "@@@@\n",
      "@@@@@\n",
      "@@@@@@\n",
      "@@@@@@@\n",
      "@@@@@@@@\n",
      "@@@@@@@@@\n",
      "\n",
      "#\n",
      "##\n",
      "###\n",
      "####\n",
      "#####\n",
      "######\n",
      "#######\n",
      "########\n",
      "#########\n",
      "\n",
      "$\n",
      "$$\n",
      "$$$\n",
      "$$$$\n",
      "$$$$$\n",
      "$$$$$$\n",
      "$$$$$$$\n",
      "$$$$$$$$\n",
      "$$$$$$$$$\n",
      "\n",
      "%\n",
      "%%\n",
      "%%%\n",
      "%%%%\n",
      "%%%%%\n",
      "%%%%%%\n",
      "%%%%%%%\n",
      "%%%%%%%%\n",
      "%%%%%%%%%\n",
      "\n",
      "&\n",
      "&&\n",
      "&&&\n",
      "&&&&\n",
      "&&&&&\n",
      "&&&&&&\n",
      "&&&&&&&\n",
      "&&&&&&&&\n",
      "&&&&&&&&&\n",
      "\n",
      "*\n",
      "**\n",
      "***\n",
      "****\n",
      "*****\n",
      "******\n",
      "*******\n",
      "********\n",
      "*********\n"
     ]
    }
   ],
   "source": [
    "symbols = ['@', '#', '$', '%', '&', '*']\n",
    "tale(symbols, 10)"
   ]
  },
  {
   "cell_type": "code",
   "execution_count": null,
   "id": "2da77829",
   "metadata": {},
   "outputs": [],
   "source": []
  }
 ],
 "metadata": {
  "kernelspec": {
   "display_name": "Python 3",
   "language": "python",
   "name": "python3"
  },
  "language_info": {
   "codemirror_mode": {
    "name": "ipython",
    "version": 3
   },
   "file_extension": ".py",
   "mimetype": "text/x-python",
   "name": "python",
   "nbconvert_exporter": "python",
   "pygments_lexer": "ipython3",
   "version": "3.8.8"
  }
 },
 "nbformat": 4,
 "nbformat_minor": 5
}
